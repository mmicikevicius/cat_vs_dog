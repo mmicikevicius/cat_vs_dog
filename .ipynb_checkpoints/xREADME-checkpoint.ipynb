{
 "cells": [
  {
   "cell_type": "markdown",
   "metadata": {},
   "source": [
    "# Files descriptions:"
   ]
  },
  {
   "cell_type": "markdown",
   "metadata": {},
   "source": [
    "### manual_cnn_cats_vs_dogs.ipynb\n",
    "Not pre-trained model. Trained and validated only on local datasates model."
   ]
  },
  {
   "cell_type": "markdown",
   "metadata": {},
   "source": [
    "### mobilenet_cats_vs_dogs.ipynb\n",
    "Loaded pre-trained MobileNet model with custom configurations. Then trained validated on the same datasets as a model above."
   ]
  },
  {
   "cell_type": "markdown",
   "metadata": {},
   "source": [
    "### saved_model/cnn_model_v1\n",
    "Saved model from manual_cnn_cats_vs_dogs.ipynb script."
   ]
  },
  {
   "cell_type": "markdown",
   "metadata": {},
   "source": [
    "### saved_model/mobilenet_model_v1\n",
    "Saved model from mobilenet_cats_vs_dogs.ipynb script."
   ]
  },
  {
   "cell_type": "markdown",
   "metadata": {},
   "source": [
    "### predict_cats_vs_dogs.py\n",
    "Defined function for above saved models loading. Dedicated for new images class prediction with capability to specify model and new images location."
   ]
  },
  {
   "cell_type": "markdown",
   "metadata": {},
   "source": [
    "### datasets/\n",
    "Contains test set of images used in models above and few images for making new predictions in single_prediction/ directory."
   ]
  },
  {
   "cell_type": "markdown",
   "metadata": {},
   "source": [
    "# Steps how to run the model for new images:"
   ]
  },
  {
   "cell_type": "markdown",
   "metadata": {},
   "source": [
    "In the terminal go to ~/../cat_vs_dog/ location."
   ]
  },
  {
   "cell_type": "markdown",
   "metadata": {},
   "source": [
    "Run this command: python3 predict_cats_vs_dogs.py"
   ]
  },
  {
   "cell_type": "markdown",
   "metadata": {},
   "source": [
    "It will run the model with these default arguments: model = 'saved_model/cnn_model_v1', direcotry = 'dataset/single_prediction'"
   ]
  },
  {
   "cell_type": "markdown",
   "metadata": {},
   "source": [
    "If you want to use different model or predict images which are in different directory please specify it as extra 2 arguments while running the program."
   ]
  },
  {
   "cell_type": "markdown",
   "metadata": {},
   "source": [
    "Example command for custom run: python3 predict_cats_vs_dogs.py 'saved_model/mobilenet_model_v1' 'dataset/new_images_location'"
   ]
  }
 ],
 "metadata": {
  "kernelspec": {
   "display_name": "Python 3",
   "language": "python",
   "name": "python3"
  },
  "language_info": {
   "codemirror_mode": {
    "name": "ipython",
    "version": 3
   },
   "file_extension": ".py",
   "mimetype": "text/x-python",
   "name": "python",
   "nbconvert_exporter": "python",
   "pygments_lexer": "ipython3",
   "version": "3.8.5"
  }
 },
 "nbformat": 4,
 "nbformat_minor": 4
}
