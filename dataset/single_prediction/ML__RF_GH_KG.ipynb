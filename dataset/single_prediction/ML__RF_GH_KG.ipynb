{
  "nbformat": 4,
  "nbformat_minor": 0,
  "metadata": {
    "colab": {
      "name": "ML_ RF_GH_KG.ipynb",
      "provenance": []
    },
    "kernelspec": {
      "name": "python3",
      "display_name": "Python 3"
    }
  },
  "cells": [
    {
      "cell_type": "markdown",
      "metadata": {
        "id": "DlAoc9bp_5Pg"
      },
      "source": [
        "Machine Learning - Fábio Gomes"
      ]
    },
    {
      "cell_type": "markdown",
      "metadata": {
        "id": "YPuzHqQxBd-7"
      },
      "source": [
        "# Machine Learning - Projeto para Curso do TCU (10/2020) - por Fábio Gomes\n",
        "\n",
        "Desafio do negócio - Anualmente são apresentadas na Câmara dos Deputados milhares de proposições legislativas. A adoção de classificação temática realizada de modo automático facilitaria atividades de monitoramento da tramitação de projetos de lei (PL) e outros tipos, como propostas de fiscalização e controle (PFC), segundo grupos temáticos de saúde, ampliando a transparência para a sociedade e agilizando atividades de elaboração legislativa e de fiscalização. Grupo de pesquisa da Câmara dos Deputados sobre Legislativo e Saúde, de que participo, desenvolveu tipologia hierarquizada para classificação de proposições legislativas relacionadas à saúde, contendo quatro grupos temáticos (também possui subcategorias) e pretende-se utilizar essa base para produzir modelo capaz de classificar novas proposições automaticamente.\n",
        "\n",
        "Solução construída - Desenvolvo esse projeto de ML há mais de um ano (classificação supervisionada de textos de projetos de lei – PL - relacionados à saúde). Houve muitos problemas na conversão de pdf em texto, pois a Câmara usou vários tipos de pdf ao longo do tempo. Em agosto de 2019, foram elaborados alguns modelos por meio do R (base com 7575 PL). O Random Forest foi o modelo mais promissor. Essa experiência permitiu a detecção de erros de classificação no conjunto de treinamento e algumas intuições sobre o banco de dados e até sobre problemas na própria tipologia usada para a classificação. Esse curso permitiu o aprendizado do Python e a retomada do projeto. \n",
        "\n",
        "O projeto atual, desenvolvido no Curso de Machine Learning em Projetos (turma TCU - 2020 - Prof. Erick Muzart) trata-se de classificação supervisionada de textos de PL de 2011 a 2014 relacionados à saúde e seus grupos temáticos. \n",
        "\n",
        "As etapas desse projeto incluíram:\n",
        "- Etapa 1 (em 2019): classificar 8.327 PL de 2011 a 2014 (codificadores humanos) relacionados à saúde: “sim” (2.328 projetos), “não” (5.999 projetos).\n",
        "- Etapa 2 (em 2019): converter o conteúdo dos arquivos em “pdf” para “txt” (7.575).\n",
        "- Etapa 3 (em 2019): construir o banco de dados (id dos PL, textos dos PL e códigos de saúde).\n",
        "- Etapa 4: aplicar modelos de aprendizado de máquina supervisionado (a partir de códigos Python do instrutor Fernando Melo).\n",
        "- Os modelos dividem o conjunto de dados para treinamento (80%) e teste (20%) e geram previsões para o último.\n",
        "- Etapa 5: calcular acurácia, recall, precisão e f1 score dos modelos."
      ]
    },
    {
      "cell_type": "markdown",
      "metadata": {
        "id": "n6qRUDWwCuHu"
      },
      "source": [
        "#Modelo Random Forest\n",
        "\n",
        "Esse caderno aplica modelo Random Forest para predizer se PL são relacionados a saúde (sim ou não), a partir dos textos desses PL."
      ]
    },
    {
      "cell_type": "code",
      "metadata": {
        "id": "wQ0P1S9nAOl0"
      },
      "source": [
        "import pandas as pd"
      ],
      "execution_count": null,
      "outputs": []
    },
    {
      "cell_type": "code",
      "metadata": {
        "id": "CU1kr0XdApuE"
      },
      "source": [
        "df1= pd.read_csv('df_sem_texto_UTF-8.csv', sep=';', encoding='UTF-8')"
      ],
      "execution_count": null,
      "outputs": []
    },
    {
      "cell_type": "code",
      "metadata": {
        "id": "c5PjNTY_EdI_"
      },
      "source": [
        "df1.head()"
      ],
      "execution_count": null,
      "outputs": []
    },
    {
      "cell_type": "code",
      "metadata": {
        "id": "JksKxRUpJQ2Y"
      },
      "source": [
        "df2= pd.read_csv('df_texto_UTF-8.csv', sep=';', encoding='UTF-8')"
      ],
      "execution_count": null,
      "outputs": []
    },
    {
      "cell_type": "code",
      "metadata": {
        "id": "l0fG1KxyKAiu"
      },
      "source": [
        "df2.tail()"
      ],
      "execution_count": null,
      "outputs": []
    },
    {
      "cell_type": "code",
      "metadata": {
        "id": "jJOj_zgDKaPs"
      },
      "source": [
        "df1['Texto'] = df2['TextoPL']"
      ],
      "execution_count": null,
      "outputs": []
    },
    {
      "cell_type": "code",
      "metadata": {
        "id": "LU5t2XFxLNy9",
        "outputId": "b5b11bc4-d71f-461f-9466-096ec640935a",
        "colab": {
          "base_uri": "https://localhost:8080/",
          "height": 34
        }
      },
      "source": [
        "df1.shape"
      ],
      "execution_count": null,
      "outputs": [
        {
          "output_type": "execute_result",
          "data": {
            "text/plain": [
              "(7575, 19)"
            ]
          },
          "metadata": {
            "tags": []
          },
          "execution_count": 15
        }
      ]
    },
    {
      "cell_type": "code",
      "metadata": {
        "id": "NAat-pshQJMa"
      },
      "source": [
        "#Selecionando colunas\n",
        "df1[['Proposicao', 'Num', 'Ano.y', 'Texto']].head()"
      ],
      "execution_count": null,
      "outputs": []
    },
    {
      "cell_type": "code",
      "metadata": {
        "id": "-eqrZiCrcs6W"
      },
      "source": [
        "#Estatísticas de Texto\n",
        "#Número de palavras na variável de Texto\n",
        "df1['nPalavras'] = df1['Texto'].str.split().str.len()\n",
        "df1['nPalavras'].describe()"
      ],
      "execution_count": null,
      "outputs": []
    },
    {
      "cell_type": "code",
      "metadata": {
        "id": "4WXZLjzjNTFT"
      },
      "source": [
        "%matplotlib inline"
      ],
      "execution_count": null,
      "outputs": []
    },
    {
      "cell_type": "code",
      "metadata": {
        "id": "3dRsBUHFNVn7"
      },
      "source": [
        "# # Importar bibliotecas\n",
        "from pprint import pprint\n",
        "from time import time\n",
        "import logging\n",
        "import pandas as pd\n",
        "import numpy as np\n",
        "\n",
        "#from sklearn.datasets import fetch_20newsgroups\n",
        "from sklearn.feature_extraction.text import CountVectorizer\n",
        "from sklearn.feature_extraction.text import TfidfTransformer\n",
        "from sklearn.linear_model import SGDClassifier\n",
        "from sklearn.model_selection import GridSearchCV\n",
        "from sklearn.pipeline import Pipeline\n",
        "\n",
        "print(__doc__)\n",
        "# Display progress logs on stdout\n",
        "logging.basicConfig(level=logging.INFO,format='%(asctime)s %(levelname)s %(message)s')"
      ],
      "execution_count": null,
      "outputs": []
    },
    {
      "cell_type": "code",
      "metadata": {
        "id": "k430zDtpQF0k"
      },
      "source": [
        "# Salvando o modelo para posterior reuso\n",
        "# from sklearn.externals import joblib\n",
        "from joblib import dump, load\n",
        "import re"
      ],
      "execution_count": null,
      "outputs": []
    },
    {
      "cell_type": "code",
      "metadata": {
        "id": "ozLFcRD5VO6B"
      },
      "source": [
        "df_PL = df1[['Saude', 'Texto']]\n",
        "df_PL.head()"
      ],
      "execution_count": null,
      "outputs": []
    },
    {
      "cell_type": "code",
      "metadata": {
        "id": "pSgrtSc2WKlQ"
      },
      "source": [
        "df_PL.describe()"
      ],
      "execution_count": null,
      "outputs": []
    },
    {
      "cell_type": "code",
      "metadata": {
        "id": "7alvOlG1QHRi"
      },
      "source": [
        "df_PL.columns = ['classe','texto']"
      ],
      "execution_count": null,
      "outputs": []
    },
    {
      "cell_type": "code",
      "metadata": {
        "id": "mjSAonz8QH33"
      },
      "source": [
        "print(df_PL.shape)\n",
        "df_PL.head()"
      ],
      "execution_count": null,
      "outputs": []
    },
    {
      "cell_type": "code",
      "metadata": {
        "id": "ThepWTnbQISC"
      },
      "source": [
        "df_PL.classe.value_counts().plot(kind='bar')"
      ],
      "execution_count": null,
      "outputs": []
    },
    {
      "cell_type": "code",
      "metadata": {
        "id": "W5oQsC_7NXvD"
      },
      "source": [
        "from sklearn.model_selection import train_test_split\n",
        "X_train, X_test, y_train, y_test = train_test_split(df_PL.texto, df_PL.classe, test_size=0.2, \n",
        "                                                    stratify=df_PL.classe,random_state=42)"
      ],
      "execution_count": null,
      "outputs": []
    },
    {
      "cell_type": "code",
      "metadata": {
        "id": "r5s_tzJnNZAL"
      },
      "source": [
        "X_train[:10]"
      ],
      "execution_count": null,
      "outputs": []
    },
    {
      "cell_type": "code",
      "metadata": {
        "id": "FJnPFpdRQyaV"
      },
      "source": [
        "print('TREINO : ',y_train.shape,'\\n', y_train.value_counts(normalize=True),'\\n')\n",
        "print('TESTE  : ',y_test.shape,'\\n', y_test.value_counts(normalize=True))"
      ],
      "execution_count": null,
      "outputs": []
    },
    {
      "cell_type": "code",
      "metadata": {
        "id": "4yd_PFcMQzsA"
      },
      "source": [
        "text_train = list(X_train)\n",
        "text_test = list(X_test)\n",
        "text_train[:5]"
      ],
      "execution_count": null,
      "outputs": []
    },
    {
      "cell_type": "code",
      "metadata": {
        "id": "-8zSFBMHRdDX"
      },
      "source": [
        "target_train = list(y_train)\n",
        "target_test = list(y_test)\n",
        "print(target_test[:5])"
      ],
      "execution_count": null,
      "outputs": []
    },
    {
      "cell_type": "code",
      "metadata": {
        "id": "Jhm9V36ZRdfY"
      },
      "source": [
        "# Define a pipeline combining a text feature extractor with a simple classifier\n",
        "pipeline = Pipeline([\n",
        "    ('vect', CountVectorizer()),\n",
        "    ('tfidf', TfidfTransformer()),\n",
        "    ('clf', SGDClassifier(loss='log')), # default hinge. to get proba=log or modified_huber\n",
        "])"
      ],
      "execution_count": null,
      "outputs": []
    },
    {
      "cell_type": "code",
      "metadata": {
        "id": "lW27mgKPR_W9"
      },
      "source": [
        "# uncommenting more parameters will give better exploring power but will\n",
        "# increase processing time in a combinatorial way\n",
        "parameters = {\n",
        "    'vect__max_df': (0.75, 1),\n",
        "    #\n",
        "    'vect__max_features': (10000, 50000),\n",
        "    'vect__ngram_range': ((1, 1), (1, 2)),  # unigrams or bigrams\n",
        "    #\n",
        "    'tfidf__use_idf': (True, False),\n",
        "    #\n",
        "    'tfidf__norm': ('l1', 'l2'),\n",
        "    'clf__max_iter': (50, 80),\n",
        "    'clf__alpha': (0.00001, 0.000001),\n",
        "    'clf__penalty': ('l2', 'elasticnet'),    \n",
        "}"
      ],
      "execution_count": null,
      "outputs": []
    },
    {
      "cell_type": "code",
      "metadata": {
        "id": "rs7K9CTdRdwN",
        "outputId": "54282257-a7db-4f42-8900-24cc01233423",
        "colab": {
          "base_uri": "https://localhost:8080/",
          "height": 510
        }
      },
      "source": [
        "if __name__ == \"__main__\":\n",
        "    # multiprocessing requires the fork to happen in a __main__ protected\n",
        "    # block\n",
        "\n",
        "    # find the best parameters for both the feature extraction and the\n",
        "    # classifier\n",
        "    grid_search = GridSearchCV(pipeline, parameters, n_jobs=-1, verbose=1,cv=2)\n",
        "\n",
        "    print(\"Performing grid search...\")\n",
        "    print(\"pipeline:\", [name for name, _ in pipeline.steps])\n",
        "    print(\"parameters:\")\n",
        "    pprint(parameters)\n",
        "    t0 = time()\n",
        "    \n",
        "    grid_search.fit(text_train, target_train)\n",
        "    print(\"done in %0.3fs\" % (time() - t0))\n",
        "    print()\n",
        "\n",
        "    print(\"Best score: %0.3f\" % grid_search.best_score_)\n",
        "    print(\"Best parameters set:\")\n",
        "    best_parameters = grid_search.best_estimator_.get_params()\n",
        "    for param_name in sorted(parameters.keys()):\n",
        "        print(\"\\t%s: %r\" % (param_name, best_parameters[param_name]))"
      ],
      "execution_count": null,
      "outputs": [
        {
          "output_type": "stream",
          "text": [
            "Performing grid search...\n",
            "pipeline: ['vect', 'tfidf', 'clf']\n",
            "parameters:\n",
            "{'clf__alpha': (1e-05, 1e-06),\n",
            " 'clf__max_iter': (50, 80),\n",
            " 'clf__penalty': ('l2', 'elasticnet'),\n",
            " 'tfidf__norm': ('l1', 'l2'),\n",
            " 'tfidf__use_idf': (True, False),\n",
            " 'vect__max_df': (0.75, 1),\n",
            " 'vect__max_features': (10000, 50000),\n",
            " 'vect__ngram_range': ((1, 1), (1, 2))}\n",
            "Fitting 2 folds for each of 256 candidates, totalling 512 fits\n"
          ],
          "name": "stdout"
        },
        {
          "output_type": "stream",
          "text": [
            "[Parallel(n_jobs=-1)]: Using backend LokyBackend with 2 concurrent workers.\n",
            "[Parallel(n_jobs=-1)]: Done  46 tasks      | elapsed:  4.5min\n",
            "[Parallel(n_jobs=-1)]: Done 196 tasks      | elapsed: 19.4min\n",
            "[Parallel(n_jobs=-1)]: Done 446 tasks      | elapsed: 44.9min\n",
            "[Parallel(n_jobs=-1)]: Done 512 out of 512 | elapsed: 51.9min finished\n"
          ],
          "name": "stderr"
        },
        {
          "output_type": "stream",
          "text": [
            "done in 3117.584s\n",
            "\n",
            "Best score: 0.909\n",
            "Best parameters set:\n",
            "\tclf__alpha: 1e-05\n",
            "\tclf__max_iter: 50\n",
            "\tclf__penalty: 'l2'\n",
            "\ttfidf__norm: 'l2'\n",
            "\ttfidf__use_idf: True\n",
            "\tvect__max_df: 0.75\n",
            "\tvect__max_features: 50000\n",
            "\tvect__ngram_range: (1, 1)\n"
          ],
          "name": "stdout"
        }
      ]
    },
    {
      "cell_type": "code",
      "metadata": {
        "id": "Ghh4IfuuQ0AV",
        "outputId": "c9bc7d72-5ca0-4955-ccd9-860f2b38ab60",
        "colab": {
          "base_uri": "https://localhost:8080/",
          "height": 34
        }
      },
      "source": [
        "grid_search.best_estimator_.predict(text_test)"
      ],
      "execution_count": null,
      "outputs": [
        {
          "output_type": "execute_result",
          "data": {
            "text/plain": [
              "array([0, 0, 1, ..., 0, 0, 1])"
            ]
          },
          "metadata": {
            "tags": []
          },
          "execution_count": 66
        }
      ]
    },
    {
      "cell_type": "code",
      "metadata": {
        "id": "t1DMP6dvSVyQ",
        "outputId": "15221bc2-4c3a-4861-d16c-223f966b9182",
        "colab": {
          "base_uri": "https://localhost:8080/",
          "height": 187
        }
      },
      "source": [
        "prob_preds= grid_search.best_estimator_.predict_proba(text_test)\n",
        "prob_preds[:10]"
      ],
      "execution_count": null,
      "outputs": [
        {
          "output_type": "execute_result",
          "data": {
            "text/plain": [
              "array([[0.99085391, 0.00914609],\n",
              "       [0.98622596, 0.01377404],\n",
              "       [0.05781684, 0.94218316],\n",
              "       [0.950264  , 0.049736  ],\n",
              "       [0.90250004, 0.09749996],\n",
              "       [0.89743691, 0.10256309],\n",
              "       [0.97970876, 0.02029124],\n",
              "       [0.99210393, 0.00789607],\n",
              "       [0.81814498, 0.18185502],\n",
              "       [0.81472786, 0.18527214]])"
            ]
          },
          "metadata": {
            "tags": []
          },
          "execution_count": 67
        }
      ]
    },
    {
      "cell_type": "code",
      "metadata": {
        "id": "dvXNCQ2RSWJy"
      },
      "source": [
        "df_test = pd.DataFrame(columns=['texto','predicted', 'prob_0','prob_1'])\n",
        "df_test['texto'] = text_test\n",
        "df_test['predicted'] = grid_search.best_estimator_.predict(text_test)\n",
        "df_test['prob_0'] = prob_preds[0:,0].tolist()\n",
        "df_test['prob_1'] = prob_preds[0:,1].tolist()"
      ],
      "execution_count": null,
      "outputs": []
    },
    {
      "cell_type": "code",
      "metadata": {
        "id": "D2_-hb1HSWis",
        "outputId": "c2adf548-bc83-447f-d2ce-b4d952dfaac2",
        "colab": {
          "base_uri": "https://localhost:8080/",
          "height": 221
        }
      },
      "source": [
        "print(df_test.shape)\n",
        "df_test.head()"
      ],
      "execution_count": null,
      "outputs": [
        {
          "output_type": "stream",
          "text": [
            "(1515, 4)\n"
          ],
          "name": "stdout"
        },
        {
          "output_type": "execute_result",
          "data": {
            "text/html": [
              "<div>\n",
              "<style scoped>\n",
              "    .dataframe tbody tr th:only-of-type {\n",
              "        vertical-align: middle;\n",
              "    }\n",
              "\n",
              "    .dataframe tbody tr th {\n",
              "        vertical-align: top;\n",
              "    }\n",
              "\n",
              "    .dataframe thead th {\n",
              "        text-align: right;\n",
              "    }\n",
              "</style>\n",
              "<table border=\"1\" class=\"dataframe\">\n",
              "  <thead>\n",
              "    <tr style=\"text-align: right;\">\n",
              "      <th></th>\n",
              "      <th>texto</th>\n",
              "      <th>predicted</th>\n",
              "      <th>prob_0</th>\n",
              "      <th>prob_1</th>\n",
              "    </tr>\n",
              "  </thead>\n",
              "  <tbody>\n",
              "    <tr>\n",
              "      <th>0</th>\n",
              "      <td>PROJETO DE LEI Nº , DE 2013\\r\\n(Do Sr. Beto Al...</td>\n",
              "      <td>0</td>\n",
              "      <td>0.990854</td>\n",
              "      <td>0.009146</td>\n",
              "    </tr>\n",
              "    <tr>\n",
              "      <th>1</th>\n",
              "      <td>PROJETO DE LEI Nº\\r\\n\\r\\n, DE 2011\\r\\n\\r\\n(Do ...</td>\n",
              "      <td>0</td>\n",
              "      <td>0.986226</td>\n",
              "      <td>0.013774</td>\n",
              "    </tr>\n",
              "    <tr>\n",
              "      <th>2</th>\n",
              "      <td>CÂMARA DOS DEPUTADOS\\r\\n\\r\\nPROJETO DE LEI Nº\\...</td>\n",
              "      <td>1</td>\n",
              "      <td>0.057817</td>\n",
              "      <td>0.942183</td>\n",
              "    </tr>\n",
              "    <tr>\n",
              "      <th>3</th>\n",
              "      <td>PROJETO DE LEI Nº , DE 2014\\r\\n(Da Sra. ROSANE...</td>\n",
              "      <td>0</td>\n",
              "      <td>0.950264</td>\n",
              "      <td>0.049736</td>\n",
              "    </tr>\n",
              "    <tr>\n",
              "      <th>4</th>\n",
              "      <td>PROJETO DE LEI No , DE 2014 (Do Sr. Márcio Mar...</td>\n",
              "      <td>0</td>\n",
              "      <td>0.902500</td>\n",
              "      <td>0.097500</td>\n",
              "    </tr>\n",
              "  </tbody>\n",
              "</table>\n",
              "</div>"
            ],
            "text/plain": [
              "                                               texto  ...    prob_1\n",
              "0  PROJETO DE LEI Nº , DE 2013\\r\\n(Do Sr. Beto Al...  ...  0.009146\n",
              "1  PROJETO DE LEI Nº\\r\\n\\r\\n, DE 2011\\r\\n\\r\\n(Do ...  ...  0.013774\n",
              "2  CÂMARA DOS DEPUTADOS\\r\\n\\r\\nPROJETO DE LEI Nº\\...  ...  0.942183\n",
              "3  PROJETO DE LEI Nº , DE 2014\\r\\n(Da Sra. ROSANE...  ...  0.049736\n",
              "4  PROJETO DE LEI No , DE 2014 (Do Sr. Márcio Mar...  ...  0.097500\n",
              "\n",
              "[5 rows x 4 columns]"
            ]
          },
          "metadata": {
            "tags": []
          },
          "execution_count": 69
        }
      ]
    },
    {
      "cell_type": "code",
      "metadata": {
        "id": "PqBM8Dm-Q0Uv"
      },
      "source": [
        "df_test.to_csv('/content/drive/My Drive/Projeto ML TCU FG 2020/PL_tfidf_all_predictions_probs_v2.csv', index=None)"
      ],
      "execution_count": null,
      "outputs": []
    },
    {
      "cell_type": "code",
      "metadata": {
        "id": "C53rmt2kQ0n8"
      },
      "source": [
        "# target_test"
      ],
      "execution_count": null,
      "outputs": []
    },
    {
      "cell_type": "code",
      "metadata": {
        "id": "hJxJPeyYS8mE",
        "outputId": "9463483f-6a34-4a62-81ee-edbce6f7091a",
        "colab": {
          "base_uri": "https://localhost:8080/",
          "height": 34
        }
      },
      "source": [
        "grid_search.best_estimator_.predict(text_test) == target_test"
      ],
      "execution_count": null,
      "outputs": [
        {
          "output_type": "execute_result",
          "data": {
            "text/plain": [
              "array([ True,  True,  True, ...,  True,  True,  True])"
            ]
          },
          "metadata": {
            "tags": []
          },
          "execution_count": 72
        }
      ]
    },
    {
      "cell_type": "code",
      "metadata": {
        "id": "hQYK8zsUS9CQ",
        "outputId": "d995ec83-e592-4192-9e93-f6064d3bb1da",
        "colab": {
          "base_uri": "https://localhost:8080/",
          "height": 34
        }
      },
      "source": [
        "sum(grid_search.best_estimator_.predict(text_test) == target_test)/len(target_test)"
      ],
      "execution_count": null,
      "outputs": [
        {
          "output_type": "execute_result",
          "data": {
            "text/plain": [
              "0.9102310231023102"
            ]
          },
          "metadata": {
            "tags": []
          },
          "execution_count": 73
        }
      ]
    },
    {
      "cell_type": "code",
      "metadata": {
        "id": "4f0r114lS9Sf",
        "outputId": "e8e17780-c145-4537-aae8-c23de0e879b5",
        "colab": {
          "base_uri": "https://localhost:8080/",
          "height": 34
        }
      },
      "source": [
        "grid_search.best_estimator_.score(text_test, target_test)"
      ],
      "execution_count": null,
      "outputs": [
        {
          "output_type": "execute_result",
          "data": {
            "text/plain": [
              "0.9102310231023102"
            ]
          },
          "metadata": {
            "tags": []
          },
          "execution_count": 74
        }
      ]
    },
    {
      "cell_type": "code",
      "metadata": {
        "id": "yXJAWnRyS9g3"
      },
      "source": [
        "p = grid_search.best_estimator_.predict(text_test)\n",
        "y = target_test"
      ],
      "execution_count": null,
      "outputs": []
    },
    {
      "cell_type": "code",
      "metadata": {
        "id": "0RVx8fFeTOei",
        "outputId": "d5210995-452c-44d0-ac57-35fd7786cce3",
        "colab": {
          "base_uri": "https://localhost:8080/",
          "height": 34
        }
      },
      "source": [
        "from sklearn.metrics import f1_score\n",
        "f1_score(y, p, average='weighted') "
      ],
      "execution_count": null,
      "outputs": [
        {
          "output_type": "execute_result",
          "data": {
            "text/plain": [
              "0.9080884933858971"
            ]
          },
          "metadata": {
            "tags": []
          },
          "execution_count": 76
        }
      ]
    },
    {
      "cell_type": "code",
      "metadata": {
        "id": "AuQBobzCTO7T",
        "outputId": "a073777a-40f4-4614-9dca-23a6f813f191",
        "colab": {
          "base_uri": "https://localhost:8080/",
          "height": 323
        }
      },
      "source": [
        "# Gerando Matriz de Confusão\n",
        "# https://stackoverflow.com/questions/19233771/sklearn-plot-confusion-matrix-with-labels/48018785\n",
        "\n",
        "from sklearn.metrics import confusion_matrix\n",
        "import matplotlib.pyplot as plt\n",
        "import matplotlib.cm as cm\n",
        "\n",
        "labels = [0,1]\n",
        "#tlabels = list(target_test.map({0:'Não_Saúde', 1:'Saúde'}))\n",
        "cm = confusion_matrix(y, p, labels)\n",
        "print(cm)\n",
        "fig = plt.figure()\n",
        "ax = fig.add_subplot(111)\n",
        "cax = ax.matshow(cm)\n",
        "\n",
        "plt.title('Confusion matrix of the classifier')\n",
        "fig.colorbar(cax)\n",
        "ax.set_xticklabels([''] + labels)\n",
        "ax.set_yticklabels([''] + labels)\n",
        "plt.xlabel('Predicted')\n",
        "plt.ylabel('True')\n",
        "for x in range(len(cm)):\n",
        "    for z in range(len(cm)):\n",
        "        plt.annotate(str(cm[x][z]), xy=(z, x),\n",
        "                    horizontalalignment='center',\n",
        "                    verticalalignment='center')\n",
        "plt.cm.Blues\n",
        "plt.show()"
      ],
      "execution_count": null,
      "outputs": [
        {
          "output_type": "stream",
          "text": [
            "[[1053   39]\n",
            " [  97  326]]\n"
          ],
          "name": "stdout"
        },
        {
          "output_type": "display_data",
          "data": {
            "image/png": "[encoded data removed]",
            "text/plain": [
              "<Figure size 432x288 with 2 Axes>"
            ]
          },
          "metadata": {
            "tags": [],
            "needs_background": "light"
          }
        }
      ]
    }
  ]
}